{
 "cells": [
  {
   "cell_type": "markdown",
   "metadata": {},
   "source": [
    "# Apollo Energy Data Scraping\n",
    "\n",
    "<br>\n",
    "\n",
    "### Imports"
   ]
  },
  {
   "cell_type": "code",
   "execution_count": 75,
   "metadata": {},
   "outputs": [],
   "source": [
    "import json\n",
    "import pandas as pd\n",
    "\n",
    "import os\n",
    "import re\n",
    "import requests\n",
    "import FEAutils as hlp\n",
    "from warnings import warn\n",
    "from dotenv import load_dotenv\n",
    "\n",
    "from IPython.display import JSON"
   ]
  },
  {
   "cell_type": "code",
   "execution_count": null,
   "metadata": {},
   "outputs": [],
   "source": []
  },
  {
   "cell_type": "code",
   "execution_count": 83,
   "metadata": {},
   "outputs": [],
   "source": [
    "load_dotenv('.env')\n",
    "\n",
    "webhook_url = os.getenv('SLACK_WEBHOOK_URL')"
   ]
  },
  {
   "cell_type": "code",
   "execution_count": null,
   "metadata": {},
   "outputs": [],
   "source": []
  },
  {
   "cell_type": "code",
   "execution_count": 77,
   "metadata": {},
   "outputs": [
    {
     "data": {
      "application/json": {
       "Brent & Coal": {
        "Brent": {
         "Change from Yesterday": "-$0.81/bbl",
         "Price": "$47.80/bbl"
        },
        "Coal": {
         "Change from Yesterday": "+$0.85/tn",
         "Price": "$59.95/tn"
        }
       },
       "Gas": {
        "Day-Ahead": {
         "Change from Yesterday": "+1.76ppt",
         "Price": "41.60ppt"
        },
        "Dec-20": {
         "Change from Yesterday": "+1.97ppt",
         "Price": "41.24ppt"
        },
        "Q1-21": {
         "Change from Yesterday": "+1.59ppt",
         "Price": "41.13ppt"
        },
        "Year-Ahead": {
         "Change from Yesterday": "+0.82ppt",
         "Price": "37.94ppt"
        }
       },
       "Power": {
        "Day-Ahead": {
         "Change from Yesterday": "-£9.30/MWh",
         "Price": "£51.60/MWh"
        },
        "Dec-20": {
         "Change from Yesterday": "+£1.80/MWh",
         "Price": "£49.30/MWh"
        },
        "Q1-21": {
         "Change from Yesterday": "-£0.01./MWh",
         "Price": "£50.53/MWh"
        },
        "Year-Ahead": {
         "Change from Yesterday": "+£0.45/MWh",
         "Price": "£47.35/MWh"
        }
       }
      },
      "text/plain": [
       "<IPython.core.display.JSON object>"
      ]
     },
     "execution_count": 77,
     "metadata": {
      "application/json": {
       "expanded": false,
       "root": "root"
      }
     },
     "output_type": "execute_result"
    }
   ],
   "source": [
    "def get_price_data():\n",
    "    prices_url = 'https://www.apolloenergy.co.uk/news/current-uk-energy-prices'\n",
    "    markets = ['Power', 'Gas', 'Brent & Coal']\n",
    "\n",
    "    price_data = [df.set_index(df.columns[0]).T.to_dict() for df in pd.read_html(prices_url)]\n",
    "    price_data = dict(zip(markets, price_data))\n",
    "    \n",
    "    return price_data\n",
    "\n",
    "try:\n",
    "    price_data = get_price_data()\n",
    "except:\n",
    "    message = 'The latest price data could not be retrieved'\n",
    "    price_data = handle_error_message(message, webhook_url)\n",
    "\n",
    "JSON(price_data)"
   ]
  },
  {
   "cell_type": "code",
   "execution_count": null,
   "metadata": {},
   "outputs": [],
   "source": []
  },
  {
   "cell_type": "code",
   "execution_count": 79,
   "metadata": {},
   "outputs": [
    {
     "data": {
      "application/json": {
       "Brent": {
        "1-year forward prices": "Market close data has revealed that the 1-year forward price for both commercial gas & commercial electricity moved higher, closing at 37.94ppt and £47.35/MWh, respectively. ",
        "Brent Summary": "Brent Crude trades down for the first time this week as rumours have surfaced that OPEC may postpone additional production cuts for three months, while trading is also limited by the Thanksgiving holiday in the US."
       },
       "Gas": {
        "Market Close": "Temperatures are set to fall below the seasonal norm during December and the renewable power outlook is weak, resulting in gains on the prompt and the rest of the near curve. Longer dated contracts were supported by bullish coal and oil.",
        "Market Open": "Gas prices have opened higher this morning as supply and demand levels are set to tighten in the coming days due to colder weather and weak wind generation. The system opened 7mcm short due to a significant rise in both LDZ and CCGT demand, offering strong support to the near curve."
       },
       "Power": {
        "Market Close": "Minimal wind generation and a rise in heating demand helped to lift near curve prices during Thursday's session, with gas supply expected to tighten over the coming weeks. Meanwhile, contracts at the back of the curve continued to follow rising feedstocks.",
        "Market Open": "Low renewable generation and a drop in temperatures support the near curve this morning, although an expected improvement in wind levels next week has helped the prompt record a loss. Further out, prices continue to find support from bullish coal and carbon, although oil has eased down."
       }
      },
      "text/plain": [
       "<IPython.core.display.JSON object>"
      ]
     },
     "execution_count": 79,
     "metadata": {
      "application/json": {
       "expanded": false,
       "root": "root"
      }
     },
     "output_type": "execute_result"
    }
   ],
   "source": [
    "create_analysis_url = lambda date: f\"https://www.apolloenergy.co.uk/news/energy-market-analysis-{pd.to_datetime(date).strftime('%d-%m-%Y')}\"\n",
    "\n",
    "def get_analysis_date():\n",
    "    current_weekday = pd.Timestamp.now().weekday()\n",
    "\n",
    "    if current_weekday > 4:\n",
    "        days_to_offset = current_weekday - 4\n",
    "        date = (pd.Timestamp.now() - pd.Timedelta(days=days_to_offset)).strftime('%Y-%m-%d')\n",
    "\n",
    "    return date\n",
    "\n",
    "def handle_error_message(message, webhook_url=None):\n",
    "    warn(message)\n",
    "\n",
    "    if webhook_url is not None:\n",
    "        hlp.send_slack_msg(message, webhook_url)    \n",
    "    \n",
    "    json_message = {'message': message}\n",
    "    \n",
    "    return json_message\n",
    "\n",
    "def extract_market_analysis(analysis_url):\n",
    "    power_data = pd.read_html(analysis_url)[0].iloc[:, 0].to_list()\n",
    "    gas_data = pd.read_html(analysis_url)[0].iloc[:, 1].to_list()\n",
    "\n",
    "    brent_analysis_txt = pd.read_html(analysis_url)[1].iloc[0, 0]\n",
    "    brent_sections = ['Brent Summary', '1-year forward prices']\n",
    "    brent_content = [elem.strip() for elem in re.split(' |'.join(brent_sections), brent_analysis_txt) if elem != '']\n",
    "    brent_data = dict(zip(brent_sections, brent_content))\n",
    "\n",
    "    market_analysis = {\n",
    "        power_data[0]: {\n",
    "            power_data[1]: power_data[2],\n",
    "            power_data[3]: power_data[4]\n",
    "        },\n",
    "        gas_data[0]: {\n",
    "            gas_data[1]: gas_data[2],\n",
    "            gas_data[3]: gas_data[4]\n",
    "        },\n",
    "        'Brent': brent_data\n",
    "    }\n",
    "    \n",
    "    return market_analysis \n",
    "\n",
    "def clean_market_analysis(market_analysis):\n",
    "    char_replacements = {\n",
    "        'â\\x80\\x98': '\\'',\n",
    "        'â\\x80\\x99': '\\'',\n",
    "        'Â': '',\n",
    "        \"Today's prices can also be found in an easy to read table on our 'current UK energy price' page.\": ''\n",
    "    }\n",
    "\n",
    "    for mkt, analysis in market_analysis.items():\n",
    "        for analysis_section, section_content in analysis.items():\n",
    "            for old, new in char_replacements.items():\n",
    "                section_content = section_content.replace(old, new)\n",
    "\n",
    "            market_analysis[mkt][analysis_section] = section_content\n",
    "\n",
    "    return market_analysis\n",
    "\n",
    "def retrieve_cleaned_market_analysis(webhook_url=None):\n",
    "    date = get_analysis_date()\n",
    "    analysis_url = create_analysis_url(date)\n",
    "    \n",
    "    try:\n",
    "        requests.get(analysis_url).raise_for_status() # checks page can be retrieved\n",
    "    except:\n",
    "        message = f'A market analysis page could not be found for {date}'\n",
    "        json_message = handle_error_message(message, webhook_url)\n",
    "            \n",
    "        return json_message\n",
    "        \n",
    "    market_analysis = extract_market_analysis(analysis_url)\n",
    "    market_analysis = clean_market_analysis(market_analysis)\n",
    "    \n",
    "    return market_analysis\n",
    "\n",
    "try:\n",
    "    market_analysis = retrieve_cleaned_market_analysis(webhook_url)\n",
    "except:\n",
    "    message = f'The market analysis page for {date} could not be retrieved/processed'\n",
    "    market_analysis = handle_error_message(message, webhook_url)\n",
    "\n",
    "JSON(market_analysis)"
   ]
  },
  {
   "cell_type": "code",
   "execution_count": null,
   "metadata": {},
   "outputs": [],
   "source": []
  },
  {
   "cell_type": "code",
   "execution_count": null,
   "metadata": {},
   "outputs": [],
   "source": []
  },
  {
   "cell_type": "code",
   "execution_count": null,
   "metadata": {},
   "outputs": [],
   "source": []
  }
 ],
 "metadata": {
  "kernelspec": {
   "display_name": "Apollo",
   "language": "python",
   "name": "apollo"
  },
  "language_info": {
   "codemirror_mode": {
    "name": "ipython",
    "version": 3
   },
   "file_extension": ".py",
   "mimetype": "text/x-python",
   "name": "python",
   "nbconvert_exporter": "python",
   "pygments_lexer": "ipython3",
   "version": "3.7.8"
  }
 },
 "nbformat": 4,
 "nbformat_minor": 4
}
